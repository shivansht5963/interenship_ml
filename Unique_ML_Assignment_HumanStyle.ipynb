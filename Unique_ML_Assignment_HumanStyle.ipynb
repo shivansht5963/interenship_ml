{
 "cells": [
  {
   "cell_type": "code",
   "execution_count": null,
   "id": "3730ad2d",
   "metadata": {},
   "outputs": [],
   "source": [
    "\n",
    "import pandas as pd\n",
    "import numpy as np\n",
    "import matplotlib.pyplot as plt\n",
    "from sklearn.model_selection import train_test_split\n",
    "from sklearn.preprocessing import LabelEncoder\n",
    "from sklearn.linear_model import LogisticRegression\n",
    "from sklearn.neighbors import KNeighborsClassifier\n",
    "from sklearn.metrics import accuracy_score, confusion_matrix, ConfusionMatrixDisplay\n",
    "from matplotlib.colors import ListedColormap\n"
   ]
  },
  {
   "cell_type": "code",
   "execution_count": null,
   "id": "d43d8ead",
   "metadata": {},
   "outputs": [],
   "source": [
    "\n",
    "dataset = pd.DataFrame({\n",
    "    'HoursStudied': [3, 6, 2, 8, 4, 5, 7, 1, 9, 2],\n",
    "    'ClassAttendance': [70, 88, 60, 92, 68, 78, 85, 50, 96, 58],\n",
    "    'StudentAge': [17, 18, 16, 19, 18, 17, 20, 16, 21, 17],\n",
    "    'Sex': ['Male', 'Female', 'Male', 'Female', 'Female', 'Male', 'Female', 'Male', 'Female', 'Male'],\n",
    "    'FinalResult': ['Pass', 'Pass', 'Fail', 'Pass', 'Fail', 'Pass', 'Pass', 'Fail', 'Pass', 'Fail']\n",
    "})\n"
   ]
  },
  {
   "cell_type": "code",
   "execution_count": null,
   "id": "b021fc51",
   "metadata": {},
   "outputs": [],
   "source": [
    "\n",
    "lbl = LabelEncoder()\n",
    "dataset['Sex'] = lbl.fit_transform(dataset['Sex'])\n",
    "dataset['FinalResult'] = lbl.fit_transform(dataset['FinalResult'])\n"
   ]
  },
  {
   "cell_type": "code",
   "execution_count": null,
   "id": "7e95067a",
   "metadata": {},
   "outputs": [],
   "source": [
    "\n",
    "features = dataset.drop('FinalResult', axis=1)\n",
    "target = dataset['FinalResult']\n",
    "\n",
    "x_train, x_test, y_train, y_test = train_test_split(features, target, test_size=0.2, random_state=1)\n"
   ]
  },
  {
   "cell_type": "code",
   "execution_count": null,
   "id": "e2409896",
   "metadata": {},
   "outputs": [],
   "source": [
    "\n",
    "model_log = LogisticRegression()\n",
    "model_log.fit(x_train, y_train)\n",
    "pred_log = model_log.predict(x_test)\n",
    "acc_log = accuracy_score(y_test, pred_log)\n",
    "\n",
    "model_knn = KNeighborsClassifier(n_neighbors=3)\n",
    "model_knn.fit(x_train, y_train)\n",
    "pred_knn = model_knn.predict(x_test)\n",
    "acc_knn = accuracy_score(y_test, pred_knn)\n",
    "\n",
    "print(\"LogReg Accuracy:\", acc_log)\n",
    "print(\"KNN Accuracy:\", acc_knn)\n"
   ]
  },
  {
   "cell_type": "code",
   "execution_count": null,
   "id": "330b1194",
   "metadata": {},
   "outputs": [],
   "source": [
    "\n",
    "ks = [1, 3, 5, 7]\n",
    "acc_knn_list = []\n",
    "\n",
    "for k in ks:\n",
    "    clf = KNeighborsClassifier(n_neighbors=k)\n",
    "    clf.fit(x_train, y_train)\n",
    "    acc = accuracy_score(y_test, clf.predict(x_test))\n",
    "    acc_knn_list.append(acc)\n",
    "\n",
    "plt.plot(ks, acc_knn_list, marker='o')\n",
    "plt.xlabel(\"K Value\")\n",
    "plt.ylabel(\"Accuracy\")\n",
    "plt.title(\"KNN Tuning\")\n",
    "plt.grid()\n",
    "plt.show()\n"
   ]
  },
  {
   "cell_type": "code",
   "execution_count": null,
   "id": "a42d8e66",
   "metadata": {},
   "outputs": [],
   "source": [
    "\n",
    "plot_data = dataset[['HoursStudied', 'ClassAttendance']]\n",
    "x_vis_train, x_vis_test, y_vis_train, y_vis_test = train_test_split(plot_data, target, test_size=0.2, random_state=1)\n",
    "\n",
    "viz_model = KNeighborsClassifier(n_neighbors=3)\n",
    "viz_model.fit(x_vis_train, y_vis_train)\n",
    "\n",
    "h = .03\n",
    "x_min, x_max = plot_data.iloc[:, 0].min() - 1, plot_data.iloc[:, 0].max() + 1\n",
    "y_min, y_max = plot_data.iloc[:, 1].min() - 1, plot_data.iloc[:, 1].max() + 1\n",
    "xx, yy = np.meshgrid(np.arange(x_min, x_max, h), np.arange(y_min, y_max, h))\n",
    "z = viz_model.predict(np.c_[xx.ravel(), yy.ravel()])\n",
    "z = z.reshape(xx.shape)\n",
    "\n",
    "plt.figure(figsize=(7,5))\n",
    "plt.contourf(xx, yy, z, cmap=ListedColormap(['#FFA07A','#90EE90']), alpha=0.7)\n",
    "plt.scatter(plot_data['HoursStudied'], plot_data['ClassAttendance'], c=target, cmap=ListedColormap(['red','green']), edgecolor='k')\n",
    "plt.xlabel(\"Hours Studied\")\n",
    "plt.ylabel(\"Class Attendance\")\n",
    "plt.title(\"KNN Decision Zone\")\n",
    "plt.show()\n"
   ]
  },
  {
   "cell_type": "code",
   "execution_count": null,
   "id": "fb2ebb1b",
   "metadata": {},
   "outputs": [],
   "source": [
    "\n",
    "cfm = confusion_matrix(y_test, pred_knn)\n",
    "ConfusionMatrixDisplay(confusion_matrix=cfm, display_labels=['Fail','Pass']).plot()\n",
    "plt.title(\"ConfMatrix - KNN\")\n",
    "plt.show()\n"
   ]
  },
  {
   "cell_type": "code",
   "execution_count": null,
   "id": "e251a4ce",
   "metadata": {},
   "outputs": [],
   "source": [
    "\n",
    "features_less = dataset.drop(columns=['FinalResult', 'StudentAge', 'Sex'])\n",
    "x_train_l, x_test_l, y_train_l, y_test_l = train_test_split(features_less, target, test_size=0.2, random_state=1)\n",
    "\n",
    "recheck_model = KNeighborsClassifier(n_neighbors=3)\n",
    "recheck_model.fit(x_train_l, y_train_l)\n",
    "pred_l = recheck_model.predict(x_test_l)\n",
    "acc_l = accuracy_score(y_test_l, pred_l)\n",
    "\n",
    "print(\"Original KNN Accuracy:\", acc_knn)\n",
    "print(\"Accuracy after dropping age & sex:\", acc_l)\n"
   ]
  },
  {
   "cell_type": "code",
   "execution_count": null,
   "id": "e1bda893",
   "metadata": {},
   "outputs": [],
   "source": [
    "\n",
    "probs = model_log.predict_proba(x_test)[:, 1]\n",
    "plt.plot(range(len(probs)), probs, marker='o', linestyle='--')\n",
    "plt.title(\"Logistic Regression Probabilities\")\n",
    "plt.xlabel(\"Sample\")\n",
    "plt.ylabel(\"Prob of Pass\")\n",
    "plt.grid(True)\n",
    "plt.show()\n"
   ]
  }
 ],
 "metadata": {},
 "nbformat": 4,
 "nbformat_minor": 5
}
